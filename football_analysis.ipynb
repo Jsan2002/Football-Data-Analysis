{
 "cells": [
  {
   "cell_type": "markdown",
   "metadata": {},
   "source": [
    "# Football Data Analysis\n",
    "\n",
    "This notebook processes football match data to calculate various statistics over different time windows (last 5, 15, and 38 matches) for both home and away teams."
   ]
  },
  {
   "cell_type": "code",
   "execution_count": null,
   "metadata": {},
   "source": [
    "import pandas as pd\n",
    "import numpy as np"
   ]
  },
  {
   "cell_type": "code",
   "execution_count": null,
   "metadata": {},
   "source": [
    "# Read the Excel file\n",
    "df_raw = pd.read_excel('Football Data Test Task.xlsx', sheet_name='Raw Data')\n",
    "print('Raw data shape:', df_raw.shape)\n",
    "df_raw.head()"
   ]
  },
  {
   "cell_type": "markdown",
   "metadata": {},
   "source": [
    "## Calculate Rolling Statistics\n",
    "\n",
    "We'll calculate rolling statistics for each team over their last 5, 15, and 38 matches. For each statistic, we'll consider both home and away matches."
   ]
  },
  {
   "cell_type": "code",
   "execution_count": null,
   "metadata": {},
   "source": [
    "def calculate_team_stats(df, team, n_matches):\n",
    "    \"\"\"Calculate statistics for a team over their last N matches.\n",
    "    \n",
    "    Args:\n",
    "        df: DataFrame containing match data\n",
    "        team: Team name to calculate statistics for\n",
    "        n_matches: Number of previous matches to consider\n",
    "        \n",
    "    Returns:\n",
    "        Dictionary containing calculated statistics\n",
    "    \"\"\"\n",
    "    # Get all matches where the team played (either home or away)\n",
    "    team_matches = df[\n",
    "        (df['HomeTeam'] == team) | (df['AwayTeam'] == team)\n",
    "    ].copy()\n",
    "    \n",
    "    # Sort by Incremental_ID to ensure chronological order\n",
    "    team_matches = team_matches.sort_values('Incremental_ID')\n",
    "    \n",
    "    stats = {}\n",
    "    \n",
    "    # Calculate goals\n",
    "    home_goals = team_matches[team_matches['HomeTeam'] == team]['FTHG']\n",
    "    away_goals = team_matches[team_matches['AwayTeam'] == team]['FTAG']\n",
    "    goals = pd.concat([home_goals, away_goals]).sort_index()\n",
    "    stats[f'Goals_L{n_matches}'] = goals.rolling(window=n_matches, min_periods=1).sum()\n",
    "    \n",
    "    # Calculate wins\n",
    "    home_wins = ((team_matches['HomeTeam'] == team) & (team_matches['FTR'] == 'H'))\n",
    "    away_wins = ((team_matches['AwayTeam'] == team) & (team_matches['FTR'] == 'A'))\n",
    "    wins = pd.concat([home_wins, away_wins]).sort_index()\n",
    "    stats[f'Wins_L{n_matches}'] = wins.rolling(window=n_matches, min_periods=1).sum()\n",
    "    \n",
    "    # Add more statistics as needed (shots, corners, cards, etc.)\n",
    "    \n",
    "    return stats"
   ]
  },
  {
   "cell_type": "code",
   "execution_count": null,
   "metadata": {},
   "source": [
    "# Process a sample team\n",
    "sample_team = df_raw['HomeTeam'].iloc[0]  # First team in the dataset\n",
    "stats = calculate_team_stats(df_raw, sample_team, 5)\n",
    "print(f'Statistics for {sample_team} over last 5 matches:')\n",
    "for stat, values in stats.items():\n",
    "    print(f'{stat}: {values.iloc[-1]:.0f}')"
   ]
  },
  {
   "cell_type": "markdown",
   "metadata": {},
   "source": [
    "## Process All Teams\n",
    "\n",
    "Now we'll process all teams and create columns for each statistic over different time windows."
   ]
  },
  {
   "cell_type": "code",
   "execution_count": null,
   "metadata": {},
   "source": [
    "def process_all_teams(df):\n",
    "    \"\"\"Process all teams and calculate their statistics.\"\"\"\n",
    "    processed_df = df.copy()\n",
    "    \n",
    "    # Get unique teams\n",
    "    all_teams = pd.concat([df['HomeTeam'], df['AwayTeam']]).unique()\n",
    "    \n",
    "    # Calculate statistics for each team\n",
    "    team_stats = {}\n",
    "    for team in all_teams:\n",
    "        team_stats[team] = {\n",
    "            5: calculate_team_stats(df, team, 5),\n",
    "            15: calculate_team_stats(df, team, 15),\n",
    "            38: calculate_team_stats(df, team, 38)\n",
    "        }\n",
    "    \n",
    "    # Add statistics to the dataframe\n",
    "    for idx, row in processed_df.iterrows():\n",
    "        home_team = row['HomeTeam']\n",
    "        away_team = row['AwayTeam']\n",
    "        \n",
    "        # Add home team stats\n",
    "        for n in [5, 15, 38]:\n",
    "            for stat, values in team_stats[home_team][n].items():\n",
    "                col_name = f'Home_{stat}'\n",
    "                processed_df.at[idx, col_name] = values[idx] if idx in values.index else None\n",
    "        \n",
    "        # Add away team stats\n",
    "        for n in [5, 15, 38]:\n",
    "            for stat, values in team_stats[away_team][n].items():\n",
    "                col_name = f'Away_{stat}'\n",
    "                processed_df.at[idx, col_name] = values[idx] if idx in values.index else None\n",
    "    \n",
    "    return processed_df"
   ]
  },
  {
   "cell_type": "code",
   "execution_count": null,
   "metadata": {},
   "source": [
    "# Process all teams\n",
    "processed_df = process_all_teams(df_raw)\n",
    "\n",
    "# Save to Excel\n",
    "with pd.ExcelWriter('Football Data Test Task.xlsx', mode='a', if_sheet_exists='replace', engine='openpyxl') as writer:\n",
    "    processed_df.to_excel(writer, sheet_name='Processed Data', index=False)\n",
    "\n",
    "print('New columns added:')\n",
    "new_cols = [col for col in processed_df.columns if col not in df_raw.columns]\n",
    "print('\\n'.join(new_cols))"
   ]
  },
  {
   "cell_type": "markdown",
   "metadata": {},
   "source": [
    "## Verify Calculations\n",
    "\n",
    "Let's verify our calculations match the example provided:\n",
    "FTHG_L5 (for Arsenal) = G372 + H370 + H366 + G349 + G332"
   ]
  },
  {
   "cell_type": "code",
   "execution_count": null,
   "metadata": {},
   "source": [
    "# Verify calculations for Arsenal\n",
    "arsenal_matches = df_raw[\n",
    "    (df_raw['HomeTeam'] == 'Arsenal') | (df_raw['AwayTeam'] == 'Arsenal')\n",
    "].sort_values('Incremental_ID').tail(5)\n",
    "\n",
    "print('Last 5 matches for Arsenal:')\n",
    "print(arsenal_matches[['HomeTeam', 'AwayTeam', 'FTHG', 'FTAG']])\n",
    "\n",
    "# Calculate total goals\n",
    "total_goals = sum([\n",
    "    row['FTHG'] if row['HomeTeam'] == 'Arsenal' else row['FTAG']\n",
    "    for _, row in arsenal_matches.iterrows()\n",
    "])\n",
    "\n",
    "print(f'\\nTotal goals in last 5 matches: {total_goals}')"
   ]
  }
 ],
 "metadata": {
  "kernelspec": {
   "display_name": "Python 3",
   "language": "python",
   "name": "python3"
  },
  "language_info": {
   "codemirror_mode": {
    "name": "ipython",
    "version": 3
   },
   "file_extension": ".py",
   "mimetype": "text/x-python",
   "name": "python",
   "nbconvert_exporter": "python",
   "pygments_lexer": "ipython3",
   "version": "3.8.0"
  }
 },
 "nbformat": 4,
 "nbformat_minor": 4
}
